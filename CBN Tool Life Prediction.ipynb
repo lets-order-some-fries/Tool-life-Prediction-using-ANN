{
 "cells": [
  {
   "cell_type": "markdown",
   "metadata": {},
   "source": [
    "#### Importing libraries"
   ]
  },
  {
   "cell_type": "code",
   "execution_count": 2,
   "metadata": {
    "ExecuteTime": {
     "end_time": "2020-06-11T02:56:53.570724Z",
     "start_time": "2020-06-11T02:56:53.539670Z"
    }
   },
   "outputs": [],
   "source": [
    "import numpy as np\n",
    "import pandas as pd\n",
    "import tensorflow.keras\n",
    "from tensorflow.keras.models import Sequential\n",
    "from tensorflow.keras.layers import Dense\n",
    "from tensorflow.keras.utils import to_categorical\n",
    "from tensorflow.keras.wrappers.scikit_learn import KerasRegressor\n",
    "from sklearn import metrics\n",
    "from sklearn.model_selection import cross_val_score\n",
    "from sklearn.model_selection import train_test_split\n",
    "from sklearn.preprocessing import MinMaxScaler\n",
    "from sklearn.model_selection import KFold\n",
    "import seaborn as sns\n",
    "import matplotlib.pyplot as plt\n",
    "%matplotlib inline"
   ]
  },
  {
   "cell_type": "markdown",
   "metadata": {},
   "source": [
    "#### Importing Data"
   ]
  },
  {
   "cell_type": "code",
   "execution_count": 3,
   "metadata": {
    "ExecuteTime": {
     "end_time": "2020-06-11T02:56:55.263434Z",
     "start_time": "2020-06-11T02:56:54.931660Z"
    }
   },
   "outputs": [],
   "source": [
    "data=np.loadtxt(\"data.csv\", delimiter=\",\", skiprows=1)\n",
    "x=data[:,0:4]\n",
    "y=data[:,4]\n",
    "y=np.reshape(y, (-1,1))"
   ]
  },
  {
   "cell_type": "markdown",
   "metadata": {},
   "source": [
    "##### Scaling the data"
   ]
  },
  {
   "cell_type": "code",
   "execution_count": 4,
   "metadata": {
    "ExecuteTime": {
     "end_time": "2020-06-11T02:56:55.726616Z",
     "start_time": "2020-06-11T02:56:55.510589Z"
    }
   },
   "outputs": [
    {
     "name": "stdout",
     "output_type": "stream",
     "text": [
      "MinMaxScaler(copy=True, feature_range=(0, 1))\n",
      "MinMaxScaler(copy=True, feature_range=(0, 1))\n"
     ]
    }
   ],
   "source": [
    "scaler_x = MinMaxScaler()\n",
    "scaler_y = MinMaxScaler()\n",
    "print(scaler_x.fit(x))\n",
    "xscale=scaler_x.transform(x)\n",
    "print(scaler_y.fit(y))\n",
    "yscale=scaler_y.transform(y)"
   ]
  },
  {
   "cell_type": "markdown",
   "metadata": {},
   "source": [
    "#### Train-Test Split"
   ]
  },
  {
   "cell_type": "code",
   "execution_count": 5,
   "metadata": {
    "ExecuteTime": {
     "end_time": "2020-06-11T02:56:56.297096Z",
     "start_time": "2020-06-11T02:56:56.250231Z"
    }
   },
   "outputs": [],
   "source": [
    "x_train, x_test, y_train, y_test = train_test_split(xscale, yscale, test_size=0.2, random_state=45)"
   ]
  },
  {
   "cell_type": "markdown",
   "metadata": {},
   "source": [
    "#### Model"
   ]
  },
  {
   "cell_type": "code",
   "execution_count": 6,
   "metadata": {
    "ExecuteTime": {
     "end_time": "2020-06-11T02:57:04.135559Z",
     "start_time": "2020-06-11T02:57:01.225304Z"
    }
   },
   "outputs": [
    {
     "name": "stdout",
     "output_type": "stream",
     "text": [
      "Model: \"sequential\"\n",
      "_________________________________________________________________\n",
      "Layer (type)                 Output Shape              Param #   \n",
      "=================================================================\n",
      "dense (Dense)                (None, 35)                175       \n",
      "_________________________________________________________________\n",
      "dense_1 (Dense)              (None, 1)                 36        \n",
      "=================================================================\n",
      "Total params: 211\n",
      "Trainable params: 211\n",
      "Non-trainable params: 0\n",
      "_________________________________________________________________\n"
     ]
    }
   ],
   "source": [
    "model = Sequential()\n",
    "model.add(Dense(35, input_dim=4, kernel_initializer='normal', activation='relu'))\n",
    "model.add(Dense(1, activation='linear'))\n",
    "model.summary()"
   ]
  },
  {
   "cell_type": "code",
   "execution_count": 7,
   "metadata": {
    "ExecuteTime": {
     "end_time": "2020-06-11T02:57:04.575606Z",
     "start_time": "2020-06-11T02:57:04.135559Z"
    }
   },
   "outputs": [],
   "source": [
    "model.compile(loss='mse', optimizer='adam', metrics=['mse','mae'])"
   ]
  },
  {
   "cell_type": "code",
   "execution_count": 8,
   "metadata": {
    "ExecuteTime": {
     "end_time": "2020-06-11T02:57:12.298360Z",
     "start_time": "2020-06-11T02:57:04.575606Z"
    }
   },
   "outputs": [
    {
     "name": "stdout",
     "output_type": "stream",
     "text": [
      "Train on 45 samples, validate on 12 samples\n",
      "Epoch 1/150\n",
      "45/45 [==============================] - 3s 64ms/sample - loss: 0.3001 - mse: 0.3001 - mae: 0.4626 - val_loss: 0.2450 - val_mse: 0.2450 - val_mae: 0.3777\n",
      "Epoch 2/150\n",
      "45/45 [==============================] - 0s 2ms/sample - loss: 0.2902 - mse: 0.2902 - mae: 0.4528 - val_loss: 0.2383 - val_mse: 0.2383 - val_mae: 0.3693\n",
      "Epoch 3/150\n",
      "45/45 [==============================] - 0s 343us/sample - loss: 0.2806 - mse: 0.2806 - mae: 0.4431 - val_loss: 0.2321 - val_mse: 0.2321 - val_mae: 0.3610\n",
      "Epoch 4/150\n",
      "45/45 [==============================] - 0s 347us/sample - loss: 0.2714 - mse: 0.2714 - mae: 0.4344 - val_loss: 0.2261 - val_mse: 0.2261 - val_mae: 0.3528\n",
      "Epoch 5/150\n",
      "45/45 [==============================] - 0s 347us/sample - loss: 0.2624 - mse: 0.2624 - mae: 0.4257 - val_loss: 0.2203 - val_mse: 0.2203 - val_mae: 0.3463\n",
      "Epoch 6/150\n",
      "45/45 [==============================] - 0s 897us/sample - loss: 0.2539 - mse: 0.2539 - mae: 0.4172 - val_loss: 0.2149 - val_mse: 0.2149 - val_mae: 0.3420\n",
      "Epoch 7/150\n",
      "45/45 [==============================] - 0s 478us/sample - loss: 0.2456 - mse: 0.2456 - mae: 0.4091 - val_loss: 0.2097 - val_mse: 0.2097 - val_mae: 0.3378\n",
      "Epoch 8/150\n",
      "45/45 [==============================] - 0s 347us/sample - loss: 0.2376 - mse: 0.2376 - mae: 0.4010 - val_loss: 0.2047 - val_mse: 0.2047 - val_mae: 0.3335\n",
      "Epoch 9/150\n",
      "45/45 [==============================] - 0s 347us/sample - loss: 0.2298 - mse: 0.2298 - mae: 0.3932 - val_loss: 0.1999 - val_mse: 0.1999 - val_mae: 0.3305\n",
      "Epoch 10/150\n",
      "45/45 [==============================] - 0s 614us/sample - loss: 0.2225 - mse: 0.2225 - mae: 0.3856 - val_loss: 0.1955 - val_mse: 0.1955 - val_mae: 0.3289\n",
      "Epoch 11/150\n",
      "45/45 [==============================] - 0s 694us/sample - loss: 0.2154 - mse: 0.2154 - mae: 0.3780 - val_loss: 0.1912 - val_mse: 0.1912 - val_mae: 0.3288\n",
      "Epoch 12/150\n",
      "45/45 [==============================] - 0s 347us/sample - loss: 0.2086 - mse: 0.2086 - mae: 0.3709 - val_loss: 0.1871 - val_mse: 0.1871 - val_mae: 0.3305\n",
      "Epoch 13/150\n",
      "45/45 [==============================] - 0s 694us/sample - loss: 0.2021 - mse: 0.2021 - mae: 0.3645 - val_loss: 0.1833 - val_mse: 0.1833 - val_mae: 0.3323\n",
      "Epoch 14/150\n",
      "45/45 [==============================] - 0s 492us/sample - loss: 0.1960 - mse: 0.1960 - mae: 0.3591 - val_loss: 0.1798 - val_mse: 0.1798 - val_mae: 0.3339\n",
      "Epoch 15/150\n",
      "45/45 [==============================] - 0s 695us/sample - loss: 0.1901 - mse: 0.1901 - mae: 0.3543 - val_loss: 0.1765 - val_mse: 0.1765 - val_mae: 0.3356\n",
      "Epoch 16/150\n",
      "45/45 [==============================] - 0s 347us/sample - loss: 0.1846 - mse: 0.1846 - mae: 0.3498 - val_loss: 0.1735 - val_mse: 0.1735 - val_mae: 0.3374\n",
      "Epoch 17/150\n",
      "45/45 [==============================] - 0s 695us/sample - loss: 0.1793 - mse: 0.1793 - mae: 0.3454 - val_loss: 0.1708 - val_mse: 0.1708 - val_mae: 0.3392\n",
      "Epoch 18/150\n",
      "45/45 [==============================] - 0s 839us/sample - loss: 0.1743 - mse: 0.1743 - mae: 0.3410 - val_loss: 0.1684 - val_mse: 0.1684 - val_mae: 0.3409\n",
      "Epoch 19/150\n",
      "45/45 [==============================] - 0s 347us/sample - loss: 0.1695 - mse: 0.1695 - mae: 0.3371 - val_loss: 0.1661 - val_mse: 0.1661 - val_mae: 0.3424\n",
      "Epoch 20/150\n",
      "45/45 [==============================] - 0s 347us/sample - loss: 0.1650 - mse: 0.1650 - mae: 0.3339 - val_loss: 0.1639 - val_mse: 0.1639 - val_mae: 0.3438\n",
      "Epoch 21/150\n",
      "45/45 [==============================] - 0s 348us/sample - loss: 0.1608 - mse: 0.1608 - mae: 0.3309 - val_loss: 0.1619 - val_mse: 0.1619 - val_mae: 0.3451\n",
      "Epoch 22/150\n",
      "45/45 [==============================] - 0s 491us/sample - loss: 0.1568 - mse: 0.1568 - mae: 0.3280 - val_loss: 0.1600 - val_mse: 0.1600 - val_mae: 0.3463\n",
      "Epoch 23/150\n",
      "45/45 [==============================] - 0s 347us/sample - loss: 0.1531 - mse: 0.1531 - mae: 0.3252 - val_loss: 0.1583 - val_mse: 0.1583 - val_mae: 0.3474\n",
      "Epoch 24/150\n",
      "45/45 [==============================] - 0s 347us/sample - loss: 0.1495 - mse: 0.1495 - mae: 0.3232 - val_loss: 0.1567 - val_mse: 0.1567 - val_mae: 0.3483\n",
      "Epoch 25/150\n",
      "45/45 [==============================] - 0s 694us/sample - loss: 0.1460 - mse: 0.1460 - mae: 0.3212 - val_loss: 0.1553 - val_mse: 0.1553 - val_mae: 0.3493\n",
      "Epoch 26/150\n",
      "45/45 [==============================] - 0s 587us/sample - loss: 0.1428 - mse: 0.1428 - mae: 0.3191 - val_loss: 0.1540 - val_mse: 0.1540 - val_mae: 0.3500\n",
      "Epoch 27/150\n",
      "45/45 [==============================] - 0s 347us/sample - loss: 0.1396 - mse: 0.1396 - mae: 0.3170 - val_loss: 0.1528 - val_mse: 0.1528 - val_mae: 0.3506\n",
      "Epoch 28/150\n",
      "45/45 [==============================] - 0s 694us/sample - loss: 0.1367 - mse: 0.1367 - mae: 0.3152 - val_loss: 0.1517 - val_mse: 0.1517 - val_mae: 0.3511\n",
      "Epoch 29/150\n",
      "45/45 [==============================] - 0s 636us/sample - loss: 0.1339 - mse: 0.1339 - mae: 0.3134 - val_loss: 0.1507 - val_mse: 0.1507 - val_mae: 0.3514\n",
      "Epoch 30/150\n",
      "45/45 [==============================] - 0s 347us/sample - loss: 0.1312 - mse: 0.1312 - mae: 0.3115 - val_loss: 0.1498 - val_mse: 0.1498 - val_mae: 0.3516\n",
      "Epoch 31/150\n",
      "45/45 [==============================] - 0s 347us/sample - loss: 0.1286 - mse: 0.1286 - mae: 0.3096 - val_loss: 0.1489 - val_mse: 0.1489 - val_mae: 0.3516\n",
      "Epoch 32/150\n",
      "45/45 [==============================] - 0s 347us/sample - loss: 0.1262 - mse: 0.1262 - mae: 0.3075 - val_loss: 0.1481 - val_mse: 0.1481 - val_mae: 0.3516\n",
      "Epoch 33/150\n",
      "45/45 [==============================] - 0s 839us/sample - loss: 0.1239 - mse: 0.1239 - mae: 0.3054 - val_loss: 0.1473 - val_mse: 0.1473 - val_mae: 0.3514\n",
      "Epoch 34/150\n",
      "45/45 [==============================] - 0s 347us/sample - loss: 0.1216 - mse: 0.1216 - mae: 0.3035 - val_loss: 0.1466 - val_mse: 0.1466 - val_mae: 0.3510\n",
      "Epoch 35/150\n",
      "45/45 [==============================] - 0s 347us/sample - loss: 0.1195 - mse: 0.1195 - mae: 0.3018 - val_loss: 0.1459 - val_mse: 0.1459 - val_mae: 0.3506\n",
      "Epoch 36/150\n",
      "45/45 [==============================] - 0s 347us/sample - loss: 0.1175 - mse: 0.1175 - mae: 0.3000 - val_loss: 0.1452 - val_mse: 0.1452 - val_mae: 0.3500\n",
      "Epoch 37/150\n",
      "45/45 [==============================] - 0s 492us/sample - loss: 0.1155 - mse: 0.1155 - mae: 0.2981 - val_loss: 0.1445 - val_mse: 0.1445 - val_mae: 0.3494\n",
      "Epoch 38/150\n",
      "45/45 [==============================] - 0s 347us/sample - loss: 0.1136 - mse: 0.1136 - mae: 0.2962 - val_loss: 0.1438 - val_mse: 0.1438 - val_mae: 0.3486\n",
      "Epoch 39/150\n",
      "45/45 [==============================] - 0s 694us/sample - loss: 0.1118 - mse: 0.1118 - mae: 0.2942 - val_loss: 0.1431 - val_mse: 0.1431 - val_mae: 0.3478\n",
      "Epoch 40/150\n",
      "45/45 [==============================] - 0s 347us/sample - loss: 0.1101 - mse: 0.1101 - mae: 0.2922 - val_loss: 0.1424 - val_mse: 0.1424 - val_mae: 0.3468\n",
      "Epoch 41/150\n",
      "45/45 [==============================] - 0s 347us/sample - loss: 0.1084 - mse: 0.1084 - mae: 0.2901 - val_loss: 0.1416 - val_mse: 0.1416 - val_mae: 0.3457\n",
      "Epoch 42/150\n",
      "45/45 [==============================] - 0s 492us/sample - loss: 0.1068 - mse: 0.1068 - mae: 0.2880 - val_loss: 0.1408 - val_mse: 0.1408 - val_mae: 0.3445\n",
      "Epoch 43/150\n",
      "45/45 [==============================] - 0s 347us/sample - loss: 0.1052 - mse: 0.1052 - mae: 0.2858 - val_loss: 0.1400 - val_mse: 0.1400 - val_mae: 0.3432\n",
      "Epoch 44/150\n",
      "45/45 [==============================] - 0s 347us/sample - loss: 0.1036 - mse: 0.1036 - mae: 0.2836 - val_loss: 0.1392 - val_mse: 0.1392 - val_mae: 0.3419\n",
      "Epoch 45/150\n",
      "45/45 [==============================] - 0s 694us/sample - loss: 0.1021 - mse: 0.1021 - mae: 0.2814 - val_loss: 0.1383 - val_mse: 0.1383 - val_mae: 0.3404\n",
      "Epoch 46/150\n",
      "45/45 [==============================] - 0s 347us/sample - loss: 0.1006 - mse: 0.1006 - mae: 0.2791 - val_loss: 0.1373 - val_mse: 0.1373 - val_mae: 0.3389\n",
      "Epoch 47/150\n",
      "45/45 [==============================] - 0s 347us/sample - loss: 0.0992 - mse: 0.0992 - mae: 0.2769 - val_loss: 0.1363 - val_mse: 0.1363 - val_mae: 0.3372\n",
      "Epoch 48/150\n",
      "45/45 [==============================] - 0s 145us/sample - loss: 0.0977 - mse: 0.0977 - mae: 0.2746 - val_loss: 0.1352 - val_mse: 0.1352 - val_mae: 0.3355\n",
      "Epoch 49/150\n",
      "45/45 [==============================] - 0s 355us/sample - loss: 0.0963 - mse: 0.0963 - mae: 0.2723 - val_loss: 0.1341 - val_mse: 0.1341 - val_mae: 0.3337\n"
     ]
    },
    {
     "name": "stdout",
     "output_type": "stream",
     "text": [
      "Epoch 50/150\n",
      "45/45 [==============================] - 0s 377us/sample - loss: 0.0950 - mse: 0.0950 - mae: 0.2701 - val_loss: 0.1330 - val_mse: 0.1330 - val_mae: 0.3319\n",
      "Epoch 51/150\n",
      "45/45 [==============================] - 0s 2us/sample - loss: 0.0936 - mse: 0.0936 - mae: 0.2678 - val_loss: 0.1319 - val_mse: 0.1319 - val_mae: 0.3301\n",
      "Epoch 52/150\n",
      "45/45 [==============================] - 0s 347us/sample - loss: 0.0923 - mse: 0.0923 - mae: 0.2655 - val_loss: 0.1307 - val_mse: 0.1307 - val_mae: 0.3283\n",
      "Epoch 53/150\n",
      "45/45 [==============================] - 0s 322us/sample - loss: 0.0909 - mse: 0.0909 - mae: 0.2633 - val_loss: 0.1295 - val_mse: 0.1295 - val_mae: 0.3264\n",
      "Epoch 54/150\n",
      "45/45 [==============================] - 0s 347us/sample - loss: 0.0896 - mse: 0.0896 - mae: 0.2611 - val_loss: 0.1283 - val_mse: 0.1283 - val_mae: 0.3245\n",
      "Epoch 55/150\n",
      "45/45 [==============================] - 0s 347us/sample - loss: 0.0883 - mse: 0.0883 - mae: 0.2590 - val_loss: 0.1271 - val_mse: 0.1271 - val_mae: 0.3225\n",
      "Epoch 56/150\n",
      "45/45 [==============================] - 0s 347us/sample - loss: 0.0871 - mse: 0.0871 - mae: 0.2568 - val_loss: 0.1258 - val_mse: 0.1258 - val_mae: 0.3205\n",
      "Epoch 57/150\n",
      "45/45 [==============================] - 0s 347us/sample - loss: 0.0858 - mse: 0.0858 - mae: 0.2546 - val_loss: 0.1246 - val_mse: 0.1246 - val_mae: 0.3185\n",
      "Epoch 58/150\n",
      "45/45 [==============================] - 0s 492us/sample - loss: 0.0846 - mse: 0.0846 - mae: 0.2524 - val_loss: 0.1233 - val_mse: 0.1233 - val_mae: 0.3164\n",
      "Epoch 59/150\n",
      "45/45 [==============================] - 0s 347us/sample - loss: 0.0833 - mse: 0.0833 - mae: 0.2502 - val_loss: 0.1220 - val_mse: 0.1220 - val_mae: 0.3144\n",
      "Epoch 60/150\n",
      "45/45 [==============================] - 0s 347us/sample - loss: 0.0821 - mse: 0.0821 - mae: 0.2480 - val_loss: 0.1208 - val_mse: 0.1208 - val_mae: 0.3123\n",
      "Epoch 61/150\n",
      "45/45 [==============================] - 0s 347us/sample - loss: 0.0809 - mse: 0.0809 - mae: 0.2458 - val_loss: 0.1195 - val_mse: 0.1195 - val_mae: 0.3103\n",
      "Epoch 62/150\n",
      "45/45 [==============================] - 0s 347us/sample - loss: 0.0797 - mse: 0.0797 - mae: 0.2436 - val_loss: 0.1182 - val_mse: 0.1182 - val_mae: 0.3082\n",
      "Epoch 63/150\n",
      "45/45 [==============================] - 0s 347us/sample - loss: 0.0785 - mse: 0.0785 - mae: 0.2414 - val_loss: 0.1170 - val_mse: 0.1170 - val_mae: 0.3062\n",
      "Epoch 64/150\n",
      "45/45 [==============================] - 0s 492us/sample - loss: 0.0773 - mse: 0.0773 - mae: 0.2392 - val_loss: 0.1158 - val_mse: 0.1158 - val_mae: 0.3041\n",
      "Epoch 65/150\n",
      "45/45 [==============================] - 0s 347us/sample - loss: 0.0762 - mse: 0.0762 - mae: 0.2371 - val_loss: 0.1145 - val_mse: 0.1145 - val_mae: 0.3020\n",
      "Epoch 66/150\n",
      "45/45 [==============================] - 0s 347us/sample - loss: 0.0750 - mse: 0.0750 - mae: 0.2349 - val_loss: 0.1133 - val_mse: 0.1133 - val_mae: 0.3000\n",
      "Epoch 67/150\n",
      "45/45 [==============================] - 0s 347us/sample - loss: 0.0739 - mse: 0.0739 - mae: 0.2328 - val_loss: 0.1120 - val_mse: 0.1120 - val_mae: 0.2979\n",
      "Epoch 68/150\n",
      "45/45 [==============================] - 0s 347us/sample - loss: 0.0728 - mse: 0.0728 - mae: 0.2307 - val_loss: 0.1108 - val_mse: 0.1108 - val_mae: 0.2958\n",
      "Epoch 69/150\n",
      "45/45 [==============================] - 0s 0s/sample - loss: 0.0717 - mse: 0.0717 - mae: 0.2286 - val_loss: 0.1096 - val_mse: 0.1096 - val_mae: 0.2938\n",
      "Epoch 70/150\n",
      "45/45 [==============================] - 0s 145us/sample - loss: 0.0707 - mse: 0.0707 - mae: 0.2265 - val_loss: 0.1084 - val_mse: 0.1084 - val_mae: 0.2918\n",
      "Epoch 71/150\n",
      "45/45 [==============================] - 0s 347us/sample - loss: 0.0696 - mse: 0.0696 - mae: 0.2245 - val_loss: 0.1073 - val_mse: 0.1073 - val_mae: 0.2897\n",
      "Epoch 72/150\n",
      "45/45 [==============================] - 0s 347us/sample - loss: 0.0686 - mse: 0.0686 - mae: 0.2225 - val_loss: 0.1061 - val_mse: 0.1061 - val_mae: 0.2877\n",
      "Epoch 73/150\n",
      "45/45 [==============================] - 0s 347us/sample - loss: 0.0676 - mse: 0.0676 - mae: 0.2206 - val_loss: 0.1050 - val_mse: 0.1050 - val_mae: 0.2857\n",
      "Epoch 74/150\n",
      "45/45 [==============================] - 0s 347us/sample - loss: 0.0666 - mse: 0.0666 - mae: 0.2186 - val_loss: 0.1038 - val_mse: 0.1038 - val_mae: 0.2838\n",
      "Epoch 75/150\n",
      "45/45 [==============================] - 0s 347us/sample - loss: 0.0657 - mse: 0.0657 - mae: 0.2166 - val_loss: 0.1027 - val_mse: 0.1027 - val_mae: 0.2818\n",
      "Epoch 76/150\n",
      "45/45 [==============================] - 0s 145us/sample - loss: 0.0647 - mse: 0.0647 - mae: 0.2147 - val_loss: 0.1016 - val_mse: 0.1016 - val_mae: 0.2799\n",
      "Epoch 77/150\n",
      "45/45 [==============================] - 0s 355us/sample - loss: 0.0637 - mse: 0.0637 - mae: 0.2127 - val_loss: 0.1005 - val_mse: 0.1005 - val_mae: 0.2779\n",
      "Epoch 78/150\n",
      "45/45 [==============================] - 0s 71us/sample - loss: 0.0628 - mse: 0.0628 - mae: 0.2108 - val_loss: 0.0994 - val_mse: 0.0994 - val_mae: 0.2760\n",
      "Epoch 79/150\n",
      "45/45 [==============================] - 0s 347us/sample - loss: 0.0618 - mse: 0.0618 - mae: 0.2088 - val_loss: 0.0984 - val_mse: 0.0984 - val_mae: 0.2741\n",
      "Epoch 80/150\n",
      "45/45 [==============================] - 0s 347us/sample - loss: 0.0609 - mse: 0.0609 - mae: 0.2068 - val_loss: 0.0973 - val_mse: 0.0973 - val_mae: 0.2721\n",
      "Epoch 81/150\n",
      "45/45 [==============================] - 0s 359us/sample - loss: 0.0600 - mse: 0.0600 - mae: 0.2049 - val_loss: 0.0962 - val_mse: 0.0962 - val_mae: 0.2702\n",
      "Epoch 82/150\n",
      "45/45 [==============================] - 0s 347us/sample - loss: 0.0591 - mse: 0.0591 - mae: 0.2029 - val_loss: 0.0951 - val_mse: 0.0951 - val_mae: 0.2682\n",
      "Epoch 83/150\n",
      "45/45 [==============================] - 0s 347us/sample - loss: 0.0582 - mse: 0.0582 - mae: 0.2010 - val_loss: 0.0941 - val_mse: 0.0941 - val_mae: 0.2663\n",
      "Epoch 84/150\n",
      "45/45 [==============================] - 0s 347us/sample - loss: 0.0573 - mse: 0.0573 - mae: 0.1991 - val_loss: 0.0930 - val_mse: 0.0930 - val_mae: 0.2643\n",
      "Epoch 85/150\n",
      "45/45 [==============================] - 0s 347us/sample - loss: 0.0565 - mse: 0.0565 - mae: 0.1971 - val_loss: 0.0920 - val_mse: 0.0920 - val_mae: 0.2624\n",
      "Epoch 86/150\n",
      "45/45 [==============================] - 0s 347us/sample - loss: 0.0556 - mse: 0.0556 - mae: 0.1952 - val_loss: 0.0909 - val_mse: 0.0909 - val_mae: 0.2605\n",
      "Epoch 87/150\n",
      "45/45 [==============================] - 0s 145us/sample - loss: 0.0548 - mse: 0.0548 - mae: 0.1933 - val_loss: 0.0899 - val_mse: 0.0899 - val_mae: 0.2586\n",
      "Epoch 88/150\n",
      "45/45 [==============================] - 0s 347us/sample - loss: 0.0540 - mse: 0.0540 - mae: 0.1914 - val_loss: 0.0888 - val_mse: 0.0888 - val_mae: 0.2566\n",
      "Epoch 89/150\n",
      "45/45 [==============================] - 0s 347us/sample - loss: 0.0531 - mse: 0.0531 - mae: 0.1895 - val_loss: 0.0878 - val_mse: 0.0878 - val_mae: 0.2547\n",
      "Epoch 90/150\n",
      "45/45 [==============================] - 0s 347us/sample - loss: 0.0523 - mse: 0.0523 - mae: 0.1876 - val_loss: 0.0868 - val_mse: 0.0868 - val_mae: 0.2528\n",
      "Epoch 91/150\n",
      "45/45 [==============================] - 0s 347us/sample - loss: 0.0515 - mse: 0.0515 - mae: 0.1857 - val_loss: 0.0858 - val_mse: 0.0858 - val_mae: 0.2509\n",
      "Epoch 92/150\n",
      "45/45 [==============================] - 0s 347us/sample - loss: 0.0508 - mse: 0.0508 - mae: 0.1839 - val_loss: 0.0848 - val_mse: 0.0848 - val_mae: 0.2490\n",
      "Epoch 93/150\n",
      "45/45 [==============================] - 0s 145us/sample - loss: 0.0500 - mse: 0.0500 - mae: 0.1820 - val_loss: 0.0838 - val_mse: 0.0838 - val_mae: 0.2471\n",
      "Epoch 94/150\n",
      "45/45 [==============================] - 0s 0s/sample - loss: 0.0492 - mse: 0.0492 - mae: 0.1801 - val_loss: 0.0828 - val_mse: 0.0828 - val_mae: 0.2452\n",
      "Epoch 95/150\n",
      "45/45 [==============================] - 0s 0s/sample - loss: 0.0485 - mse: 0.0485 - mae: 0.1782 - val_loss: 0.0818 - val_mse: 0.0818 - val_mae: 0.2433\n",
      "Epoch 96/150\n",
      "45/45 [==============================] - 0s 0s/sample - loss: 0.0477 - mse: 0.0477 - mae: 0.1765 - val_loss: 0.0808 - val_mse: 0.0808 - val_mae: 0.2414\n",
      "Epoch 97/150\n",
      "45/45 [==============================] - 0s 0s/sample - loss: 0.0470 - mse: 0.0470 - mae: 0.1747 - val_loss: 0.0798 - val_mse: 0.0798 - val_mae: 0.2395\n",
      "Epoch 98/150\n",
      "45/45 [==============================] - 0s 0s/sample - loss: 0.0462 - mse: 0.0462 - mae: 0.1730 - val_loss: 0.0788 - val_mse: 0.0788 - val_mae: 0.2376\n"
     ]
    },
    {
     "name": "stdout",
     "output_type": "stream",
     "text": [
      "Epoch 99/150\n",
      "45/45 [==============================] - 0s 145us/sample - loss: 0.0455 - mse: 0.0455 - mae: 0.1713 - val_loss: 0.0779 - val_mse: 0.0779 - val_mae: 0.2357\n",
      "Epoch 100/150\n",
      "45/45 [==============================] - 0s 347us/sample - loss: 0.0448 - mse: 0.0448 - mae: 0.1697 - val_loss: 0.0769 - val_mse: 0.0769 - val_mae: 0.2337\n",
      "Epoch 101/150\n",
      "45/45 [==============================] - 0s 347us/sample - loss: 0.0441 - mse: 0.0441 - mae: 0.1681 - val_loss: 0.0759 - val_mse: 0.0759 - val_mae: 0.2318\n",
      "Epoch 102/150\n",
      "45/45 [==============================] - 0s 347us/sample - loss: 0.0434 - mse: 0.0434 - mae: 0.1665 - val_loss: 0.0750 - val_mse: 0.0750 - val_mae: 0.2299\n",
      "Epoch 103/150\n",
      "45/45 [==============================] - 0s 347us/sample - loss: 0.0427 - mse: 0.0427 - mae: 0.1649 - val_loss: 0.0740 - val_mse: 0.0740 - val_mae: 0.2280\n",
      "Epoch 104/150\n",
      "45/45 [==============================] - 0s 347us/sample - loss: 0.0420 - mse: 0.0420 - mae: 0.1633 - val_loss: 0.0731 - val_mse: 0.0731 - val_mae: 0.2261\n",
      "Epoch 105/150\n",
      "45/45 [==============================] - 0s 145us/sample - loss: 0.0414 - mse: 0.0414 - mae: 0.1618 - val_loss: 0.0721 - val_mse: 0.0721 - val_mae: 0.2241\n",
      "Epoch 106/150\n",
      "45/45 [==============================] - 0s 377us/sample - loss: 0.0407 - mse: 0.0407 - mae: 0.1602 - val_loss: 0.0712 - val_mse: 0.0712 - val_mae: 0.2222\n",
      "Epoch 107/150\n",
      "45/45 [==============================] - 0s 0s/sample - loss: 0.0400 - mse: 0.0400 - mae: 0.1586 - val_loss: 0.0703 - val_mse: 0.0703 - val_mae: 0.2203\n",
      "Epoch 108/150\n",
      "45/45 [==============================] - 0s 0s/sample - loss: 0.0394 - mse: 0.0394 - mae: 0.1570 - val_loss: 0.0693 - val_mse: 0.0693 - val_mae: 0.2184\n",
      "Epoch 109/150\n",
      "45/45 [==============================] - 0s 0s/sample - loss: 0.0387 - mse: 0.0387 - mae: 0.1554 - val_loss: 0.0684 - val_mse: 0.0684 - val_mae: 0.2165\n",
      "Epoch 110/150\n",
      "45/45 [==============================] - 0s 347us/sample - loss: 0.0381 - mse: 0.0381 - mae: 0.1538 - val_loss: 0.0675 - val_mse: 0.0675 - val_mae: 0.2146\n",
      "Epoch 111/150\n",
      "45/45 [==============================] - 0s 347us/sample - loss: 0.0375 - mse: 0.0375 - mae: 0.1522 - val_loss: 0.0666 - val_mse: 0.0666 - val_mae: 0.2127\n",
      "Epoch 112/150\n",
      "45/45 [==============================] - 0s 347us/sample - loss: 0.0368 - mse: 0.0368 - mae: 0.1507 - val_loss: 0.0657 - val_mse: 0.0657 - val_mae: 0.2108\n",
      "Epoch 113/150\n",
      "45/45 [==============================] - 0s 347us/sample - loss: 0.0362 - mse: 0.0362 - mae: 0.1492 - val_loss: 0.0648 - val_mse: 0.0648 - val_mae: 0.2089\n",
      "Epoch 114/150\n",
      "45/45 [==============================] - 0s 347us/sample - loss: 0.0356 - mse: 0.0356 - mae: 0.1478 - val_loss: 0.0640 - val_mse: 0.0640 - val_mae: 0.2070\n",
      "Epoch 115/150\n",
      "45/45 [==============================] - 0s 347us/sample - loss: 0.0350 - mse: 0.0350 - mae: 0.1464 - val_loss: 0.0631 - val_mse: 0.0631 - val_mae: 0.2050\n",
      "Epoch 116/150\n",
      "45/45 [==============================] - 0s 492us/sample - loss: 0.0344 - mse: 0.0344 - mae: 0.1451 - val_loss: 0.0622 - val_mse: 0.0622 - val_mae: 0.2031\n",
      "Epoch 117/150\n",
      "45/45 [==============================] - 0s 347us/sample - loss: 0.0339 - mse: 0.0339 - mae: 0.1437 - val_loss: 0.0613 - val_mse: 0.0613 - val_mae: 0.2012\n",
      "Epoch 118/150\n",
      "45/45 [==============================] - 0s 347us/sample - loss: 0.0333 - mse: 0.0333 - mae: 0.1424 - val_loss: 0.0605 - val_mse: 0.0605 - val_mae: 0.1993\n",
      "Epoch 119/150\n",
      "45/45 [==============================] - 0s 347us/sample - loss: 0.0327 - mse: 0.0327 - mae: 0.1410 - val_loss: 0.0596 - val_mse: 0.0596 - val_mae: 0.1974\n",
      "Epoch 120/150\n",
      "45/45 [==============================] - 0s 0s/sample - loss: 0.0322 - mse: 0.0322 - mae: 0.1397 - val_loss: 0.0588 - val_mse: 0.0588 - val_mae: 0.1956\n",
      "Epoch 121/150\n",
      "45/45 [==============================] - 0s 0s/sample - loss: 0.0316 - mse: 0.0316 - mae: 0.1384 - val_loss: 0.0579 - val_mse: 0.0579 - val_mae: 0.1937\n",
      "Epoch 122/150\n",
      "45/45 [==============================] - 0s 145us/sample - loss: 0.0311 - mse: 0.0311 - mae: 0.1371 - val_loss: 0.0571 - val_mse: 0.0571 - val_mae: 0.1918\n",
      "Epoch 123/150\n",
      "45/45 [==============================] - 0s 347us/sample - loss: 0.0306 - mse: 0.0306 - mae: 0.1359 - val_loss: 0.0563 - val_mse: 0.0563 - val_mae: 0.1900\n",
      "Epoch 124/150\n",
      "45/45 [==============================] - 0s 347us/sample - loss: 0.0301 - mse: 0.0301 - mae: 0.1347 - val_loss: 0.0555 - val_mse: 0.0555 - val_mae: 0.1885\n",
      "Epoch 125/150\n",
      "45/45 [==============================] - 0s 347us/sample - loss: 0.0296 - mse: 0.0296 - mae: 0.1334 - val_loss: 0.0547 - val_mse: 0.0547 - val_mae: 0.1869\n",
      "Epoch 126/150\n",
      "45/45 [==============================] - 0s 347us/sample - loss: 0.0291 - mse: 0.0291 - mae: 0.1322 - val_loss: 0.0538 - val_mse: 0.0538 - val_mae: 0.1853\n",
      "Epoch 127/150\n",
      "45/45 [==============================] - 0s 347us/sample - loss: 0.0286 - mse: 0.0286 - mae: 0.1310 - val_loss: 0.0530 - val_mse: 0.0530 - val_mae: 0.1838\n",
      "Epoch 128/150\n",
      "45/45 [==============================] - 0s 492us/sample - loss: 0.0282 - mse: 0.0282 - mae: 0.1298 - val_loss: 0.0523 - val_mse: 0.0523 - val_mae: 0.1822\n",
      "Epoch 129/150\n",
      "45/45 [==============================] - 0s 347us/sample - loss: 0.0277 - mse: 0.0277 - mae: 0.1286 - val_loss: 0.0515 - val_mse: 0.0515 - val_mae: 0.1807\n",
      "Epoch 130/150\n",
      "45/45 [==============================] - 0s 347us/sample - loss: 0.0272 - mse: 0.0272 - mae: 0.1274 - val_loss: 0.0507 - val_mse: 0.0507 - val_mae: 0.1791\n",
      "Epoch 131/150\n",
      "45/45 [==============================] - 0s 694us/sample - loss: 0.0268 - mse: 0.0268 - mae: 0.1262 - val_loss: 0.0499 - val_mse: 0.0499 - val_mae: 0.1776\n",
      "Epoch 132/150\n",
      "45/45 [==============================] - 0s 347us/sample - loss: 0.0264 - mse: 0.0264 - mae: 0.1250 - val_loss: 0.0492 - val_mse: 0.0492 - val_mae: 0.1761\n",
      "Epoch 133/150\n",
      "45/45 [==============================] - 0s 0s/sample - loss: 0.0259 - mse: 0.0259 - mae: 0.1239 - val_loss: 0.0485 - val_mse: 0.0485 - val_mae: 0.1745\n",
      "Epoch 134/150\n",
      "45/45 [==============================] - 0s 310us/sample - loss: 0.0255 - mse: 0.0255 - mae: 0.1227 - val_loss: 0.0477 - val_mse: 0.0477 - val_mae: 0.1730\n",
      "Epoch 135/150\n",
      "45/45 [==============================] - 0s 288us/sample - loss: 0.0251 - mse: 0.0251 - mae: 0.1216 - val_loss: 0.0470 - val_mse: 0.0470 - val_mae: 0.1715\n",
      "Epoch 136/150\n",
      "45/45 [==============================] - 0s 373us/sample - loss: 0.0247 - mse: 0.0247 - mae: 0.1204 - val_loss: 0.0463 - val_mse: 0.0463 - val_mae: 0.1700\n",
      "Epoch 137/150\n",
      "45/45 [==============================] - 0s 347us/sample - loss: 0.0243 - mse: 0.0243 - mae: 0.1193 - val_loss: 0.0456 - val_mse: 0.0456 - val_mae: 0.1685\n",
      "Epoch 138/150\n",
      "45/45 [==============================] - 0s 381us/sample - loss: 0.0239 - mse: 0.0239 - mae: 0.1182 - val_loss: 0.0449 - val_mse: 0.0449 - val_mae: 0.1670\n",
      "Epoch 139/150\n",
      "45/45 [==============================] - 0s 347us/sample - loss: 0.0235 - mse: 0.0235 - mae: 0.1172 - val_loss: 0.0442 - val_mse: 0.0442 - val_mae: 0.1655\n",
      "Epoch 140/150\n",
      "45/45 [==============================] - 0s 347us/sample - loss: 0.0232 - mse: 0.0232 - mae: 0.1162 - val_loss: 0.0436 - val_mse: 0.0436 - val_mae: 0.1641\n",
      "Epoch 141/150\n",
      "45/45 [==============================] - 0s 347us/sample - loss: 0.0228 - mse: 0.0228 - mae: 0.1153 - val_loss: 0.0429 - val_mse: 0.0429 - val_mae: 0.1626\n",
      "Epoch 142/150\n",
      "45/45 [==============================] - 0s 347us/sample - loss: 0.0224 - mse: 0.0224 - mae: 0.1145 - val_loss: 0.0422 - val_mse: 0.0422 - val_mae: 0.1611\n",
      "Epoch 143/150\n",
      "45/45 [==============================] - 0s 492us/sample - loss: 0.0221 - mse: 0.0221 - mae: 0.1136 - val_loss: 0.0416 - val_mse: 0.0416 - val_mae: 0.1597\n",
      "Epoch 144/150\n",
      "45/45 [==============================] - 0s 347us/sample - loss: 0.0217 - mse: 0.0217 - mae: 0.1127 - val_loss: 0.0410 - val_mse: 0.0410 - val_mae: 0.1582\n",
      "Epoch 145/150\n",
      "45/45 [==============================] - 0s 347us/sample - loss: 0.0214 - mse: 0.0214 - mae: 0.1118 - val_loss: 0.0404 - val_mse: 0.0404 - val_mae: 0.1568\n",
      "Epoch 146/150\n",
      "45/45 [==============================] - 0s 347us/sample - loss: 0.0210 - mse: 0.0210 - mae: 0.1109 - val_loss: 0.0397 - val_mse: 0.0397 - val_mae: 0.1554\n",
      "Epoch 147/150\n",
      "45/45 [==============================] - 0s 347us/sample - loss: 0.0207 - mse: 0.0207 - mae: 0.1101 - val_loss: 0.0391 - val_mse: 0.0391 - val_mae: 0.1539\n"
     ]
    },
    {
     "name": "stdout",
     "output_type": "stream",
     "text": [
      "Epoch 148/150\n",
      "45/45 [==============================] - 0s 0s/sample - loss: 0.0204 - mse: 0.0204 - mae: 0.1092 - val_loss: 0.0385 - val_mse: 0.0385 - val_mae: 0.1525\n",
      "Epoch 149/150\n",
      "45/45 [==============================] - 0s 145us/sample - loss: 0.0201 - mse: 0.0201 - mae: 0.1084 - val_loss: 0.0380 - val_mse: 0.0380 - val_mae: 0.1511\n",
      "Epoch 150/150\n",
      "45/45 [==============================] - 0s 347us/sample - loss: 0.0198 - mse: 0.0198 - mae: 0.1075 - val_loss: 0.0374 - val_mse: 0.0374 - val_mae: 0.1497\n"
     ]
    }
   ],
   "source": [
    "history = model.fit(x_train, y_train, epochs=150, batch_size=50,  verbose=1, validation_split=0.2)"
   ]
  },
  {
   "cell_type": "markdown",
   "metadata": {},
   "source": [
    "#### Plotting the loss function"
   ]
  },
  {
   "cell_type": "code",
   "execution_count": 9,
   "metadata": {
    "ExecuteTime": {
     "end_time": "2020-06-11T02:57:14.320128Z",
     "start_time": "2020-06-11T02:57:12.298360Z"
    }
   },
   "outputs": [
    {
     "name": "stdout",
     "output_type": "stream",
     "text": [
      "dict_keys(['loss', 'mse', 'mae', 'val_loss', 'val_mse', 'val_mae'])\n"
     ]
    },
    {
     "data": {
      "image/png": "[encoded data removed]",
      "text/plain": [
       "<Figure size 432x288 with 1 Axes>"
      ]
     },
     "metadata": {
      "needs_background": "light"
     },
     "output_type": "display_data"
    }
   ],
   "source": [
    "print(history.history.keys())\n",
    "# \"Loss\"\n",
    "plt.plot(history.history['loss'])\n",
    "plt.plot(history.history['val_loss'])\n",
    "plt.title('model loss')\n",
    "plt.ylabel('loss')\n",
    "plt.xlabel('epoch')\n",
    "plt.legend(['train', 'validation'], loc='upper left')\n",
    "plt.show()"
   ]
  },
  {
   "cell_type": "markdown",
   "metadata": {},
   "source": [
    "#### Prediction"
   ]
  },
  {
   "cell_type": "code",
   "execution_count": 10,
   "metadata": {
    "ExecuteTime": {
     "end_time": "2020-06-11T02:57:14.636495Z",
     "start_time": "2020-06-11T02:57:14.320128Z"
    }
   },
   "outputs": [],
   "source": [
    "y_pred= model.predict(x_test)"
   ]
  },
  {
   "cell_type": "markdown",
   "metadata": {},
   "source": [
    "#### Calculating errors"
   ]
  },
  {
   "cell_type": "code",
   "execution_count": 11,
   "metadata": {
    "ExecuteTime": {
     "end_time": "2020-06-11T02:57:14.667770Z",
     "start_time": "2020-06-11T02:57:14.636495Z"
    }
   },
   "outputs": [
    {
     "name": "stdout",
     "output_type": "stream",
     "text": [
      "Mean Absolute Error: 0.09967477912619964\n",
      "Mean Squared Error: 0.01676428947682638\n",
      "Root Mean Squared Error: 0.12947698435176183\n"
     ]
    }
   ],
   "source": [
    "print('Mean Absolute Error:', metrics.mean_absolute_error(y_test, y_pred))\n",
    "print('Mean Squared Error:', metrics.mean_squared_error(y_test, y_pred))\n",
    "print('Root Mean Squared Error:', np.sqrt(metrics.mean_squared_error(y_test, y_pred)))"
   ]
  },
  {
   "cell_type": "code",
   "execution_count": 12,
   "metadata": {
    "ExecuteTime": {
     "end_time": "2020-06-11T02:57:14.905539Z",
     "start_time": "2020-06-11T02:57:14.667770Z"
    }
   },
   "outputs": [],
   "source": [
    "list_of_tuples = list(zip(y_test, y_pred))\n",
    "df = pd.DataFrame(list_of_tuples, columns = ['Measured', 'Predicted'], dtype='float') "
   ]
  },
  {
   "cell_type": "markdown",
   "metadata": {},
   "source": [
    "#### Plotting the measured and predicted values"
   ]
  },
  {
   "cell_type": "code",
   "execution_count": 14,
   "metadata": {
    "ExecuteTime": {
     "end_time": "2020-06-11T03:03:40.157632Z",
     "start_time": "2020-06-11T03:03:39.077759Z"
    }
   },
   "outputs": [
    {
     "data": {
      "image/png": "[encoded data removed]",
      "text/plain": [
       "<Figure size 432x288 with 1 Axes>"
      ]
     },
     "metadata": {
      "needs_background": "light"
     },
     "output_type": "display_data"
    }
   ],
   "source": [
    "sns.regplot(x=\"Measured\", y=\"Predicted\", data=df);"
   ]
  },
  {
   "cell_type": "code",
   "execution_count": 31,
   "metadata": {
    "ExecuteTime": {
     "end_time": "2020-06-11T03:13:29.055528Z",
     "start_time": "2020-06-11T03:13:28.608053Z"
    }
   },
   "outputs": [
    {
     "data": {
      "image/png": "[encoded data removed]",
      "text/plain": [
       "<Figure size 360x360 with 1 Axes>"
      ]
     },
     "metadata": {
      "needs_background": "light"
     },
     "output_type": "display_data"
    }
   ],
   "source": [
    "sns.lmplot(x=\"Measured\", y=\"Predicted\", data=df, order=3);"
   ]
  },
  {
   "cell_type": "code",
   "execution_count": null,
   "metadata": {},
   "outputs": [],
   "source": []
  }
 ],
 "metadata": {
  "hide_input": false,
  "kernelspec": {
   "display_name": "Python 3",
   "language": "python",
   "name": "python3"
  },
  "language_info": {
   "codemirror_mode": {
    "name": "ipython",
    "version": 3
   },
   "file_extension": ".py",
   "mimetype": "text/x-python",
   "name": "python",
   "nbconvert_exporter": "python",
   "pygments_lexer": "ipython3",
   "version": "3.7.7"
  },
  "toc": {
   "base_numbering": 1,
   "nav_menu": {},
   "number_sections": true,
   "sideBar": true,
   "skip_h1_title": false,
   "title_cell": "Table of Contents",
   "title_sidebar": "Contents",
   "toc_cell": false,
   "toc_position": {},
   "toc_section_display": true,
   "toc_window_display": false
  }
 },
 "nbformat": 4,
 "nbformat_minor": 4
}
